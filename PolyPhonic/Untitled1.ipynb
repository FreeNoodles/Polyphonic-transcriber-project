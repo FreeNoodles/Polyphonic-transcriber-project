{
 "cells": [
  {
   "cell_type": "code",
   "execution_count": 9,
   "metadata": {},
   "outputs": [],
   "source": [
    "import requests\n",
    "from requests.auth import HTTPBasicAuth\n",
    "\n",
    "\n"
   ]
  },
  {
   "cell_type": "code",
   "execution_count": 26,
   "metadata": {},
   "outputs": [
    {
     "name": "stdout",
     "output_type": "stream",
     "text": [
      "{'errors': [{'code': 24, 'message': 'no test/sandbox conversion credits remain for this account'}]}\n"
     ]
    }
   ],
   "source": [
    "api_key = 'GiVUYsF4A8ssq93FR48H'\n",
    "endpoint = \"https://sandbox.zamzar.com/v1/jobs\"\n",
    "source_file = r\"C:\\Users\\Gebruiker\\Desktop\\download.jpg\"\n",
    "target_format = \"png\"\n",
    "\n",
    "\n",
    "file_content = {'source_file': open(source_file, 'rb')}\n",
    "data_content = {'target_format': target_format}\n",
    "res = requests.post(endpoint, data=data_content, files=file_content, auth=HTTPBasicAuth(api_key, ''))\n",
    "print(res.json())\n"
   ]
  }
 ],
 "metadata": {
  "kernelspec": {
   "display_name": "Python 3.7 (tensorflow)",
   "language": "python",
   "name": "tensorflow"
  },
  "language_info": {
   "codemirror_mode": {
    "name": "ipython",
    "version": 3
   },
   "file_extension": ".py",
   "mimetype": "text/x-python",
   "name": "python",
   "nbconvert_exporter": "python",
   "pygments_lexer": "ipython3",
   "version": "3.7.7"
  }
 },
 "nbformat": 4,
 "nbformat_minor": 4
}
