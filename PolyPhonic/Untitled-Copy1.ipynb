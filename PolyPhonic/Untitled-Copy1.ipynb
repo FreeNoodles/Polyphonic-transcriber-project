{
 "cells": [
  {
   "cell_type": "code",
   "execution_count": 2,
   "metadata": {},
   "outputs": [],
   "source": [
    "import os, sys, getopt, glob, random, re, subprocess"
   ]
  },
  {
   "cell_type": "code",
   "execution_count": 5,
   "metadata": {},
   "outputs": [
    {
     "ename": "SyntaxError",
     "evalue": "invalid syntax (<ipython-input-5-043804b02403>, line 37)",
     "output_type": "error",
     "traceback": [
      "\u001b[1;36m  File \u001b[1;32m\"<ipython-input-5-043804b02403>\"\u001b[1;36m, line \u001b[1;32m37\u001b[0m\n\u001b[1;33m    out_file = out_dir + '\\' + line + '_' + fbase + '.' + out_type\u001b[0m\n\u001b[1;37m                                       ^\u001b[0m\n\u001b[1;31mSyntaxError\u001b[0m\u001b[1;31m:\u001b[0m invalid syntax\n"
     ]
    }
   ],
   "source": [
    "def is_fsynth_installed():\n",
    "    \"\"\" Check to make sure fluidsynth exists in the PATH \"\"\"\n",
    "    for path in os.environ['PATH'].split(os.pathsep):\n",
    "        f = os.path.join(path, 'fluidsynth')\n",
    "        if os.path.exists(f) and os.access(f, os.X_OK):\n",
    "            return True\n",
    "        \n",
    "    return False\n",
    "\n",
    "def to_audio(sf2, midi_file, out_dir, out_type='wav', txt_file=None, append=True):\n",
    "    \"\"\" \n",
    "    Convert a single midi file to an audio file.  If a text file is specified,\n",
    "    the first line of text in the file will be used in the name of the output\n",
    "    audio file.  For example, with a MIDI file named '01.mid' and a text file\n",
    "    with 'A    major', the output audio file would be 'A_major_01.wav'.  If\n",
    "    append is false, the output name will just use the text (e.g. 'A_major.wav')\n",
    "    \n",
    "    Args:\n",
    "        sf2 (str):        the file path for a .sf2 soundfont file\n",
    "        midi_file (str):  the file path for the .mid midi file to convert\n",
    "        out_dir (str):    the directory path for where to write the audio out\n",
    "        out_type (str):   the output audio type (see 'fluidsynth -T help' for options)\n",
    "        txt_file (str):   optional text file with additional information of how to name \n",
    "                          the output file\n",
    "        append (bool):    whether or not to append the optional text to the original\n",
    "                          .mid file name or replace it\n",
    "    \"\"\"\n",
    "    fbase = os.path.splitext(os.path.basename(midi_file))[0]\n",
    "    if not txt_file:\n",
    "        out_file = out_dir + '/' + fbase + '.' + out_type\n",
    "    else:\n",
    "        line = 'out'\n",
    "        with open(txt_file, 'r') as f:\n",
    "            line = re.sub(r'\\s', '_', f.readline().strip())\n",
    "            \n",
    "        if append:\n",
    "            out_file = out_dir + '\\' + line + '_' + fbase + '.' + out_type\n",
    "        else:\n",
    "            out_file = out_dir + '\\' + line + '.' + out_type\n",
    "\n",
    "    subprocess.call(['fluidsynth', '-T', out_type, '-F', out_file, '-ni', sf2, midi_file])\n",
    "\n",
    "# def main():\n",
    "#     \"\"\"\n",
    "#     Convert a directory of MIDI files to audio files using the following command line options:\n",
    "    \n",
    "#     --sf2-dir (required)   the path to a directory with .sf2 soundfont files.  The script will \n",
    "#                            pick a random soundfont from this directory for each file.\n",
    "                           \n",
    "#     --midi-dir (required)  the path to a directory with the .mid MIDI files to convert.\n",
    "    \n",
    "#     --out-dir (optional)   the directory to write the audio files to\n",
    "    \n",
    "#     --type (optional)      the audio type to write out (see 'fluidsynth -T help' for options)\n",
    "#                            the default is 'wav'\n",
    "                           \n",
    "#     --replace (optional)   if .txt files exist in the same directory as the .mid files, the text\n",
    "#                            from the files will be used for the output audio file names instead\n",
    "#                            of the midi file names.  If not specified, the text from the files will\n",
    "#                            be appended to the file name.\n",
    "#     \"\"\"\n",
    "#     try:\n",
    "#         if not is_fsynth_installed():\n",
    "#             raise Exception('Unable to find \\'fluidsynth\\' in the path')\n",
    "        \n",
    "#         opts, args = getopt.getopt(sys.argv[1:], None, ['sf2-dir=', 'midi-dir=', 'out-dir=', 'type=', 'replace'])\n",
    "#         sf2files, midifiles, textfiles, out_dir, out_type, append = [], [], [], None, 'wav', True\n",
    "#         for o, v in opts:\n",
    "#             if o == '--sf2-dir':\n",
    "#                 sf2files = glob.glob(v + '/*.[sS][fF]2')\n",
    "#             elif o == '--midi-dir':\n",
    "#                 midifiles = glob.glob(v + '/*.[mM][iI][dD]')\n",
    "#                 textfiles = glob.glob(v + '/*.[tT][xX][tT]')\n",
    "#                 if not out_dir:\n",
    "#                     out_dir = v\n",
    "#             elif o == '--out-dir':\n",
    "#                 out_dir = v\n",
    "#             elif o == '--type':\n",
    "#                 out_type = v\n",
    "#             elif o == '--replace':\n",
    "#                 append = False\n",
    "                \n",
    "#         if not sf2files:\n",
    "#             raise Exception('A --sf2-dir directory must be specified where at least one .sf2 file exists')\n",
    "#         elif not midifiles:\n",
    "#             raise Exception('A --midi-dir directory must be specified where at least one .mid file exists')\n",
    "\n",
    "#         if not textfiles or len(textfiles) < len(midifiles):\n",
    "#             for mid in midifiles:\n",
    "#                 to_audio(random.choice(sf2files), mid, out_dir, out_type)\n",
    "#         else:\n",
    "#             for mid, txt in zip(midifiles, textfiles):\n",
    "#                 to_audio(random.choice(sf2files), mid, out_dir, out_type, txt, append)\n",
    "                    \n"
   ]
  },
  {
   "cell_type": "code",
   "execution_count": 6,
   "metadata": {},
   "outputs": [
    {
     "ename": "NameError",
     "evalue": "name 'to_audio' is not defined",
     "output_type": "error",
     "traceback": [
      "\u001b[1;31m---------------------------------------------------------------------------\u001b[0m",
      "\u001b[1;31mNameError\u001b[0m                                 Traceback (most recent call last)",
      "\u001b[1;32m<ipython-input-6-550672e16756>\u001b[0m in \u001b[0;36m<module>\u001b[1;34m\u001b[0m\n\u001b[1;32m----> 1\u001b[1;33m \u001b[0mto_audio\u001b[0m\u001b[1;33m(\u001b[0m\u001b[0msf2\u001b[0m\u001b[1;33m=\u001b[0m\u001b[1;34mr\"C:\\Program Files\\MuseScore 3\\sound\\MuseScore_General.sf3\"\u001b[0m\u001b[1;33m,\u001b[0m\u001b[0mmidi_file\u001b[0m\u001b[1;33m=\u001b[0m\u001b[1;34mr\"D:\\PolyPhonic\\midi\\1 God - Grace.gp4.midi\"\u001b[0m\u001b[1;33m,\u001b[0m\u001b[0mout_dir\u001b[0m\u001b[1;33m=\u001b[0m\u001b[1;34mr\"C:\\Users\\Gebruiker\\Desktop\\TransferFolder\"\u001b[0m\u001b[1;33m,\u001b[0m\u001b[0mappend\u001b[0m\u001b[1;33m=\u001b[0m\u001b[1;32mTrue\u001b[0m\u001b[1;33m)\u001b[0m\u001b[1;33m\u001b[0m\u001b[1;33m\u001b[0m\u001b[0m\n\u001b[0m",
      "\u001b[1;31mNameError\u001b[0m: name 'to_audio' is not defined"
     ]
    }
   ],
   "source": [
    "to_audio(sf2=r\"C:\\Program Files\\MuseScore 3\\sound\\MuseScore_General.sf3\",midi_file=r\"D:\\PolyPhonic\\midi\\1 God - Grace.gp4.midi\",out_dir=r\"C:\\Users\\Gebruiker\\Desktop\\TransferFolder\",append=True)"
   ]
  },
  {
   "cell_type": "code",
   "execution_count": 9,
   "metadata": {},
   "outputs": [
    {
     "ename": "FileNotFoundError",
     "evalue": "[WinError 2] The system cannot find the file specified",
     "output_type": "error",
     "traceback": [
      "\u001b[1;31m---------------------------------------------------------------------------\u001b[0m",
      "\u001b[1;31mFileNotFoundError\u001b[0m                         Traceback (most recent call last)",
      "\u001b[1;32m<ipython-input-9-00c4ef6605a2>\u001b[0m in \u001b[0;36m<module>\u001b[1;34m\u001b[0m\n\u001b[0;32m      1\u001b[0m subprocess.call(['fluidsynth'\n\u001b[1;32m----> 2\u001b[1;33m                  , \"wav\", '-F',r\"D:\\fluidsynth-x64\\bin\\guitar.sf2\",r\"D:\\PolyPhonic\\midi\\1 God - Grace.gp4.midi\"])\n\u001b[0m",
      "\u001b[1;32m~\\miniconda3\\envs\\tensorflow\\lib\\subprocess.py\u001b[0m in \u001b[0;36mcall\u001b[1;34m(timeout, *popenargs, **kwargs)\u001b[0m\n\u001b[0;32m    337\u001b[0m     \u001b[0mretcode\u001b[0m \u001b[1;33m=\u001b[0m \u001b[0mcall\u001b[0m\u001b[1;33m(\u001b[0m\u001b[1;33m[\u001b[0m\u001b[1;34m\"ls\"\u001b[0m\u001b[1;33m,\u001b[0m \u001b[1;34m\"-l\"\u001b[0m\u001b[1;33m]\u001b[0m\u001b[1;33m)\u001b[0m\u001b[1;33m\u001b[0m\u001b[1;33m\u001b[0m\u001b[0m\n\u001b[0;32m    338\u001b[0m     \"\"\"\n\u001b[1;32m--> 339\u001b[1;33m     \u001b[1;32mwith\u001b[0m \u001b[0mPopen\u001b[0m\u001b[1;33m(\u001b[0m\u001b[1;33m*\u001b[0m\u001b[0mpopenargs\u001b[0m\u001b[1;33m,\u001b[0m \u001b[1;33m**\u001b[0m\u001b[0mkwargs\u001b[0m\u001b[1;33m)\u001b[0m \u001b[1;32mas\u001b[0m \u001b[0mp\u001b[0m\u001b[1;33m:\u001b[0m\u001b[1;33m\u001b[0m\u001b[1;33m\u001b[0m\u001b[0m\n\u001b[0m\u001b[0;32m    340\u001b[0m         \u001b[1;32mtry\u001b[0m\u001b[1;33m:\u001b[0m\u001b[1;33m\u001b[0m\u001b[1;33m\u001b[0m\u001b[0m\n\u001b[0;32m    341\u001b[0m             \u001b[1;32mreturn\u001b[0m \u001b[0mp\u001b[0m\u001b[1;33m.\u001b[0m\u001b[0mwait\u001b[0m\u001b[1;33m(\u001b[0m\u001b[0mtimeout\u001b[0m\u001b[1;33m=\u001b[0m\u001b[0mtimeout\u001b[0m\u001b[1;33m)\u001b[0m\u001b[1;33m\u001b[0m\u001b[1;33m\u001b[0m\u001b[0m\n",
      "\u001b[1;32m~\\miniconda3\\envs\\tensorflow\\lib\\subprocess.py\u001b[0m in \u001b[0;36m__init__\u001b[1;34m(self, args, bufsize, executable, stdin, stdout, stderr, preexec_fn, close_fds, shell, cwd, env, universal_newlines, startupinfo, creationflags, restore_signals, start_new_session, pass_fds, encoding, errors, text)\u001b[0m\n\u001b[0;32m    798\u001b[0m                                 \u001b[0mc2pread\u001b[0m\u001b[1;33m,\u001b[0m \u001b[0mc2pwrite\u001b[0m\u001b[1;33m,\u001b[0m\u001b[1;33m\u001b[0m\u001b[1;33m\u001b[0m\u001b[0m\n\u001b[0;32m    799\u001b[0m                                 \u001b[0merrread\u001b[0m\u001b[1;33m,\u001b[0m \u001b[0merrwrite\u001b[0m\u001b[1;33m,\u001b[0m\u001b[1;33m\u001b[0m\u001b[1;33m\u001b[0m\u001b[0m\n\u001b[1;32m--> 800\u001b[1;33m                                 restore_signals, start_new_session)\n\u001b[0m\u001b[0;32m    801\u001b[0m         \u001b[1;32mexcept\u001b[0m\u001b[1;33m:\u001b[0m\u001b[1;33m\u001b[0m\u001b[1;33m\u001b[0m\u001b[0m\n\u001b[0;32m    802\u001b[0m             \u001b[1;31m# Cleanup if the child failed starting.\u001b[0m\u001b[1;33m\u001b[0m\u001b[1;33m\u001b[0m\u001b[1;33m\u001b[0m\u001b[0m\n",
      "\u001b[1;32m~\\miniconda3\\envs\\tensorflow\\lib\\subprocess.py\u001b[0m in \u001b[0;36m_execute_child\u001b[1;34m(self, args, executable, preexec_fn, close_fds, pass_fds, cwd, env, startupinfo, creationflags, shell, p2cread, p2cwrite, c2pread, c2pwrite, errread, errwrite, unused_restore_signals, unused_start_new_session)\u001b[0m\n\u001b[0;32m   1205\u001b[0m                                          \u001b[0menv\u001b[0m\u001b[1;33m,\u001b[0m\u001b[1;33m\u001b[0m\u001b[1;33m\u001b[0m\u001b[0m\n\u001b[0;32m   1206\u001b[0m                                          \u001b[0mos\u001b[0m\u001b[1;33m.\u001b[0m\u001b[0mfspath\u001b[0m\u001b[1;33m(\u001b[0m\u001b[0mcwd\u001b[0m\u001b[1;33m)\u001b[0m \u001b[1;32mif\u001b[0m \u001b[0mcwd\u001b[0m \u001b[1;32mis\u001b[0m \u001b[1;32mnot\u001b[0m \u001b[1;32mNone\u001b[0m \u001b[1;32melse\u001b[0m \u001b[1;32mNone\u001b[0m\u001b[1;33m,\u001b[0m\u001b[1;33m\u001b[0m\u001b[1;33m\u001b[0m\u001b[0m\n\u001b[1;32m-> 1207\u001b[1;33m                                          startupinfo)\n\u001b[0m\u001b[0;32m   1208\u001b[0m             \u001b[1;32mfinally\u001b[0m\u001b[1;33m:\u001b[0m\u001b[1;33m\u001b[0m\u001b[1;33m\u001b[0m\u001b[0m\n\u001b[0;32m   1209\u001b[0m                 \u001b[1;31m# Child is launched. Close the parent's copy of those pipe\u001b[0m\u001b[1;33m\u001b[0m\u001b[1;33m\u001b[0m\u001b[1;33m\u001b[0m\u001b[0m\n",
      "\u001b[1;31mFileNotFoundError\u001b[0m: [WinError 2] The system cannot find the file specified"
     ]
    }
   ],
   "source": [
    "subprocess.call(['fluidsynth', '-T', \"wav\", '-F',r\"D:\\fluidsynth-x64\\bin\\guitar.sf2\",r\"D:\\PolyPhonic\\midi\\1 God - Grace.gp4.midi\"])"
   ]
  }
 ],
 "metadata": {
  "kernelspec": {
   "display_name": "Python 3.7 (tensorflow)",
   "language": "python",
   "name": "tensorflow"
  },
  "language_info": {
   "codemirror_mode": {
    "name": "ipython",
    "version": 3
   },
   "file_extension": ".py",
   "mimetype": "text/x-python",
   "name": "python",
   "nbconvert_exporter": "python",
   "pygments_lexer": "ipython3",
   "version": "3.7.7"
  }
 },
 "nbformat": 4,
 "nbformat_minor": 4
}
